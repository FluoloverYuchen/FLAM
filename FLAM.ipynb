{
 "cells": [
  {
   "cell_type": "markdown",
   "id": "a36eee56",
   "metadata": {},
   "source": [
    "# FLAM Model Usage\n",
    "\n",
    "## Load Model and Data\n",
    "### model List\n",
    "- FLAM_AE\n",
    "- FLAM_PE\n",
    "- FLAM_con_AE\n",
    "- FLAM_con_PE\n",
    "```\n",
    "# example use model FLAM_AE\n",
    "from model import FLAM_AE\n",
    "model = FLAM_AE()\n",
    "model.load('model/FLAM/FLAM_AE.h5')\n",
    "```\n",
    "\n",
    "### Example Data List\n",
    "- data/train_data/pe_test.csv\n",
    "- data/train_data/ae_test.csv\n",
    "\n",
    "## Run Model\n",
    "\n",
    "> The data needs to contain columns named 'smiles' and 'solvent'.\n",
    "\n",
    "### Train\n",
    "```\n",
    "# example\n",
    "import pandas as pd\n",
    "from utils import get_ae_dataset\n",
    "# load data\n",
    "train_df = pd.read_csv('data/train_data/ae_train.csv')\n",
    "train_data = get_ae_dataset(train_df)\n",
    "valid_df = pd.read_csv('data/train_data/ae_valid.csv')\n",
    "valid_data = get_ae_dataset(valid_df)\n",
    "# train model\n",
    "model.train(train_data, valid_data, epoch=200)\n",
    "# show train plot\n",
    "model.show_his()\n",
    "# save model\n",
    "model.save('model/temp.h5')\n",
    "```\n",
    "\n",
    "### Predict\n",
    "```\n",
    "# example\n",
    "import pandas as pd\n",
    "# load data\n",
    "test_df = pd.read_csv('data/train_data/ae_test.csv')\n",
    "# load model\n",
    "model.load('model/FLAM/FLAM_AE.h5')\n",
    "y_pred = model.pred(test_df)\n",
    "absorption_pred = y_pred[:,0]\n",
    "emission_pred = y_pred[:,1]\n",
    "```\n",
    "\n",
    "### Test\n",
    "```\n",
    "# example\n",
    "import pandas as pd\n",
    "test_df = pd.read_csv('data/train_data/ae_test.csv')\n",
    "model.test(test_df)\n",
    "```\n",
    "\n",
    "## Evaluate Model\n",
    "\n",
    "> The Data needs to be labeled in advance\n",
    "\n",
    "```\n",
    "# example\n",
    "import pandas as pd\n",
    "test_df = pd.read_csv('data/train_data/ae_test.csv')\n",
    "model.evaluate(test_df, tag='split', splits=['sol', 'ran'])\n",
    "```"
   ]
  },
  {
   "cell_type": "code",
   "execution_count": null,
   "id": "d9a77acf",
   "metadata": {
    "ExecuteTime": {
     "end_time": "2023-04-22T11:39:54.794399Z",
     "start_time": "2023-04-22T11:39:54.034086Z"
    }
   },
   "outputs": [],
   "source": [
    "from model import FLAM_AE\n",
    "\n",
    "model = FLAM_AE()\n",
    "model.load('model/FLAM/FLAM_AE.h5')"
   ]
  },
  {
   "cell_type": "code",
   "execution_count": null,
   "id": "d1769968",
   "metadata": {
    "ExecuteTime": {
     "end_time": "2023-04-22T11:39:57.797521Z",
     "start_time": "2023-04-22T11:39:57.760818Z"
    }
   },
   "outputs": [],
   "source": [
    "import pandas as pd\n",
    "test_df = pd.read_csv('data/train_data/ae_test.csv')"
   ]
  },
  {
   "cell_type": "code",
   "execution_count": null,
   "id": "ec4b4ffb",
   "metadata": {
    "ExecuteTime": {
     "end_time": "2023-04-22T11:40:26.524554Z",
     "start_time": "2023-04-22T11:39:58.385748Z"
    },
    "scrolled": true
   },
   "outputs": [],
   "source": [
    "model.test(test_df)"
   ]
  },
  {
   "cell_type": "code",
   "execution_count": null,
   "id": "d3305ac6",
   "metadata": {
    "ExecuteTime": {
     "end_time": "2023-04-22T11:40:44.592330Z",
     "start_time": "2023-04-22T11:40:26.527576Z"
    },
    "scrolled": true
   },
   "outputs": [],
   "source": [
    "model.evaluate(test_df, tag='split', splits=['sol', 'sc','ran'])"
   ]
  },
  {
   "cell_type": "code",
   "execution_count": null,
   "id": "bffb419b",
   "metadata": {
    "ExecuteTime": {
     "end_time": "2023-03-29T04:04:44.885835Z",
     "start_time": "2023-03-29T04:04:43.593806Z"
    },
    "scrolled": true
   },
   "outputs": [],
   "source": [
    "model.evaluate(test_df, tag='tag_name',\n",
    "               splits=['5n6', '5p6', '6n6', '6p6', 'Acridines', 'BODIPY',\n",
    "                       'Benz', 'Carbazole', 'Cyanine', 'PAHs', 'Triphenylamine'])"
   ]
  }
 ],
 "metadata": {
  "kernelspec": {
   "display_name": "Python 3 (ipykernel)",
   "language": "python",
   "name": "python3"
  },
  "language_info": {
   "codemirror_mode": {
    "name": "ipython",
    "version": 3
   },
   "file_extension": ".py",
   "mimetype": "text/x-python",
   "name": "python",
   "nbconvert_exporter": "python",
   "pygments_lexer": "ipython3",
   "version": "3.7.16"
  }
 },
 "nbformat": 4,
 "nbformat_minor": 5
}
